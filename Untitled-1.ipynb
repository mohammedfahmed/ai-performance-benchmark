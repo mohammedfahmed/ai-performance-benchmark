{
 "cells": [
  {
   "cell_type": "code",
   "execution_count": 9,
   "metadata": {},
   "outputs": [],
   "source": [
    "import pandas as pd\n",
    "import matplotlib.pyplot as plt\n",
    "import os"
   ]
  },
  {
   "cell_type": "code",
   "execution_count": 10,
   "metadata": {},
   "outputs": [],
   "source": [
    "\n",
    "# Read the dataset\n",
    "data = pd.read_csv('ollama_process_usage.csv')\n",
    "\n",
    "# Convert Timestamp to datetime\n",
    "data['Timestamp'] = pd.to_datetime(data['Timestamp'])\n",
    "\n",
    "# Ensure the 'results' directory exists\n",
    "if not os.path.exists('results'):\n",
    "    os.makedirs('results')\n",
    "\n",
    "# Add a column for relative time (in seconds)\n",
    "data['Relative Time (s)'] = 0\n",
    "\n",
    "# Iterate over each LLM Model and PID pair to calculate relative time\n",
    "for (model, pid), group in data.groupby(['LLM Model', 'PID']):\n",
    "    group = group.sort_values(by='Timestamp')\n",
    "    start_time = group['Timestamp'].min()\n",
    "    \n",
    "    # Calculate relative time (in seconds) for each entry\n",
    "    data.loc[(data['LLM Model'] == model) & (data['PID'] == pid), 'Relative Time (s)'] = (group['Timestamp'] - start_time).dt.total_seconds()\n"
   ]
  },
  {
   "cell_type": "code",
   "execution_count": 12,
   "metadata": {},
   "outputs": [
    {
     "name": "stdout",
     "output_type": "stream",
     "text": [
      "CPU and Memory usage plots for each Model_PID pair have been saved in the 'results/' folder.\n"
     ]
    }
   ],
   "source": [
    "\n",
    "# Plot CPU usage for each LLM Model and PID pair\n",
    "plt.figure(figsize=(10, 6))\n",
    "for (model, pid), group in data.groupby(['LLM Model', 'PID']):\n",
    "    plt.plot(group['Relative Time (s)'], group['CPU (%)'], marker='o', label=f\"{model}_{pid}\")\n",
    "plt.title('CPU Usage vs. Relative Time')\n",
    "plt.xlabel('Relative Time (s)')\n",
    "plt.ylabel('CPU (%)')\n",
    "plt.legend(title=\"Model_PID\", bbox_to_anchor=(1.05, 1), loc='upper left')\n",
    "plt.tight_layout()\n",
    "plt.savefig('results/cpu_usage_relative_time_by_model_pid.png')\n",
    "plt.close()\n",
    "\n",
    "# Plot Memory usage for each LLM Model and PID pair\n",
    "plt.figure(figsize=(10, 6))\n",
    "for (model, pid), group in data.groupby(['LLM Model', 'PID']):\n",
    "    plt.plot(group['Relative Time (s)'], group['Memory (GB)'], marker='o', label=f\"{model}_{pid}\")\n",
    "plt.title('Memory Usage vs. Relative Time')\n",
    "plt.xlabel('Relative Time (s)')\n",
    "plt.ylabel('Memory (GB)')\n",
    "plt.legend(title=\"Model_PID\", bbox_to_anchor=(1.05, 1), loc='upper left')\n",
    "plt.tight_layout()\n",
    "plt.savefig('results/memory_usage_relative_time_by_model_pid.png')\n",
    "plt.close()\n",
    "\n",
    "print(\"CPU and Memory usage plots for each Model_PID pair have been saved in the 'results/' folder.\")\n"
   ]
  },
  {
   "cell_type": "code",
   "execution_count": null,
   "metadata": {},
   "outputs": [],
   "source": []
  }
 ],
 "metadata": {
  "kernelspec": {
   "display_name": "Python 3",
   "language": "python",
   "name": "python3"
  },
  "language_info": {
   "codemirror_mode": {
    "name": "ipython",
    "version": 3
   },
   "file_extension": ".py",
   "mimetype": "text/x-python",
   "name": "python",
   "nbconvert_exporter": "python",
   "pygments_lexer": "ipython3",
   "version": "3.12.7"
  }
 },
 "nbformat": 4,
 "nbformat_minor": 2
}
